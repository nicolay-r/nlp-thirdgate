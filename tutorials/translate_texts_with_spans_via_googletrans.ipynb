{
  "nbformat": 4,
  "nbformat_minor": 0,
  "metadata": {
    "colab": {
      "provenance": [],
      "authorship_tag": "ABX9TyMwlr08kq7MwPlfHpNH6d4v",
      "include_colab_link": true
    },
    "kernelspec": {
      "name": "python3",
      "display_name": "Python 3"
    },
    "language_info": {
      "name": "python"
    }
  },
  "cells": [
    {
      "cell_type": "markdown",
      "metadata": {
        "id": "view-in-github",
        "colab_type": "text"
      },
      "source": [
        "<a href=\"https://colab.research.google.com/github/nicolay-r/nlp-thirdgate/blob/master/translate_texts_with_spans_via_googletrans.ipynb\" target=\"_parent\"><img src=\"https://colab.research.google.com/assets/colab-badge.svg\" alt=\"Open In Colab\"/></a>"
      ]
    },
    {
      "cell_type": "markdown",
      "source": [
        "# Translate texts with spans via GoogleTranslate API"
      ],
      "metadata": {
        "id": "Tz8ZE2E4TXWb"
      }
    },
    {
      "cell_type": "code",
      "source": [
        "!pip install bulk-translate==0.25.1\n",
        "!pip install googletrans==3.1.0a"
      ],
      "metadata": {
        "id": "upbK2K_QRQWN"
      },
      "execution_count": null,
      "outputs": []
    },
    {
      "cell_type": "code",
      "execution_count": null,
      "metadata": {
        "id": "1XEyECCQQ5Bu"
      },
      "outputs": [],
      "source": [
        "from bulk_translate.api import Translator\n",
        "from bulk_translate.src.service_dynamic import dynamic_init\n",
        "\n",
        "\n",
        "# Get the provider from the thirdgate.\n",
        "!wget https://raw.githubusercontent.com/nicolay-r/nlp-thirdgate/refs/heads/master/text-translation/googletrans_310a.py googletrans_310a.py\n",
        "\n",
        "# Step 1. Intialize model.\n",
        "model = dynamic_init(class_filepath=\"googletrans_310a.py\",\n",
        "                     src_dir=\".\",\n",
        "                     class_name=\"GoogleTranslateModel\")()\n",
        "\n",
        "# Step 2. Initialize pipeline translator.\n",
        "translator = Translator(translate_spans=False,\n",
        "                        translation_model=model,\n",
        "                        # model custom args.\n",
        "                        src=\"auto\",\n",
        "                        dest=\"en\")"
      ]
    },
    {
      "cell_type": "code",
      "source": [
        "# Composing texts. Spans as lists\n",
        "TEXTS = [\n",
        "    {\"text\": [\"C'était en\",  [\"juillet 1805\"] , \"et l'oratrice était la célèbre\", [\"Anna Pavlovna\"]]}\n",
        "    # ...\n",
        "]"
      ],
      "metadata": {
        "id": "b-yrObf3SEcN"
      },
      "execution_count": 8,
      "outputs": []
    },
    {
      "cell_type": "code",
      "source": [
        "for row_dict in translator.iter_translated_data(data_dict_it=TEXTS, prompt=\"{text}\"):\n",
        "    print(row_dict[\"result\"])"
      ],
      "metadata": {
        "colab": {
          "base_uri": "https://localhost:8080/"
        },
        "id": "L5U14HG7Q_Z0",
        "outputId": "8d7d5c64-7f17-4ca8-95ef-66f98919e31c"
      },
      "execution_count": 10,
      "outputs": [
        {
          "output_type": "stream",
          "name": "stdout",
          "text": [
            "['It was in ', ['juillet 1805'], ' and the speaker was the famous ', ['Anna Pavlovna'], '']\n"
          ]
        }
      ]
    }
  ]
}