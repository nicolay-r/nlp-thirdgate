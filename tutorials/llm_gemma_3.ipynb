{
  "nbformat": 4,
  "nbformat_minor": 0,
  "metadata": {
    "colab": {
      "provenance": [],
      "gpuType": "T4",
      "authorship_tag": "ABX9TyNkKO93zNsg2uNIhP59pxth",
      "include_colab_link": true
    },
    "kernelspec": {
      "name": "python3",
      "display_name": "Python 3"
    },
    "language_info": {
      "name": "python"
    },
    "accelerator": "GPU"
  },
  "cells": [
    {
      "cell_type": "markdown",
      "metadata": {
        "id": "view-in-github",
        "colab_type": "text"
      },
      "source": [
        "<a href=\"https://colab.research.google.com/github/nicolay-r/nlp-thirdgate/blob/master/tutorials/llm_gemma_3.ipynb\" target=\"_parent\"><img src=\"https://colab.research.google.com/assets/colab-badge.svg\" alt=\"Open In Colab\"/></a>"
      ]
    },
    {
      "cell_type": "code",
      "source": [
        "!pip install bulk-chain --no-deps\n",
        "!pip install --force-reinstall git+https://github.com/huggingface/transformers@v4.49.0-Gemma-3"
      ],
      "metadata": {
        "id": "hRaPbWJO492P"
      },
      "execution_count": null,
      "outputs": []
    },
    {
      "cell_type": "code",
      "source": [
        "!wget https://raw.githubusercontent.com/nicolay-r/nlp-thirdgate/refs/heads/master/llm/transformers_gemma3.py -O transformers_gemma3.py"
      ],
      "metadata": {
        "id": "rliv12xG5Of-"
      },
      "execution_count": null,
      "outputs": []
    },
    {
      "cell_type": "code",
      "source": [
        "from bulk_chain.core.utils import dynamic_init\n",
        "from bulk_chain.api import iter_content\n",
        "\n",
        "llm = dynamic_init(class_dir=\".\",\n",
        "                   class_filepath=\"transformers_gemma3.py\",\n",
        "                   class_name=\"Gemma3\")(model_name=\"google/gemma-3-1b-it\",\n",
        "                                        api_token=\"<YOUR-API-TOKEN-GOES-HERE>\",\n",
        "                                        temp=0.1)"
      ],
      "metadata": {
        "id": "Ixt3MZ6o4_6m"
      },
      "execution_count": 9,
      "outputs": []
    },
    {
      "cell_type": "code",
      "source": [
        "data_it = [\n",
        "    {\"text\": \"what's the color of the sky?\"},\n",
        "    {\"text\": \"what's the color of the ground?\"},\n",
        "    {\"text\": \"what's the color of the earth?\"},\n",
        "    {\"text\": \"what's the color of the moon?\"},\n",
        "    {\"text\": \"what's the color of the sun?\"},\n",
        "]\n",
        "\n",
        "schema = {\n",
        "  \"schema\": [\n",
        "    {\"prompt\": \"{text}\", \"out\": \"response\"}\n",
        "  ]\n",
        "}\n",
        "\n",
        "content_it = iter_content(data_it, llm=llm, schema=schema,\n",
        "                          return_batch=False, batch_size=10)\n",
        "\n",
        "for content in content_it:\n",
        "    print(content)"
      ],
      "metadata": {
        "id": "TUF6Jthq5DSN"
      },
      "execution_count": null,
      "outputs": []
    }
  ]
}