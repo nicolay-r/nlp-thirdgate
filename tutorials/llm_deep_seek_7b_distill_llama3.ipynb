{
  "nbformat": 4,
  "nbformat_minor": 0,
  "metadata": {
    "colab": {
      "provenance": [],
      "gpuType": "T4"
    },
    "kernelspec": {
      "name": "python3",
      "display_name": "Python 3"
    },
    "language_info": {
      "name": "python"
    },
    "accelerator": "GPU",
    "widgets": {
      "application/vnd.jupyter.widget-state+json": {
        "b735fcd26b62415db965a553750a7385": {
          "model_module": "@jupyter-widgets/controls",
          "model_name": "HBoxModel",
          "model_module_version": "1.5.0",
          "state": {
            "_dom_classes": [],
            "_model_module": "@jupyter-widgets/controls",
            "_model_module_version": "1.5.0",
            "_model_name": "HBoxModel",
            "_view_count": null,
            "_view_module": "@jupyter-widgets/controls",
            "_view_module_version": "1.5.0",
            "_view_name": "HBoxView",
            "box_style": "",
            "children": [
              "IPY_MODEL_edbb0af5bfb24d0f8c8deec99f8f47b2",
              "IPY_MODEL_0e19da014adf4acd8f4c4fb9564dbbe6",
              "IPY_MODEL_b724da32d12c45c3b97dcf84263ec04b"
            ],
            "layout": "IPY_MODEL_04f8c1d84c784f7b9ef85e2698db4a5b"
          }
        },
        "edbb0af5bfb24d0f8c8deec99f8f47b2": {
          "model_module": "@jupyter-widgets/controls",
          "model_name": "HTMLModel",
          "model_module_version": "1.5.0",
          "state": {
            "_dom_classes": [],
            "_model_module": "@jupyter-widgets/controls",
            "_model_module_version": "1.5.0",
            "_model_name": "HTMLModel",
            "_view_count": null,
            "_view_module": "@jupyter-widgets/controls",
            "_view_module_version": "1.5.0",
            "_view_name": "HTMLView",
            "description": "",
            "description_tooltip": null,
            "layout": "IPY_MODEL_0d1fd8cdafd1474385102b15da742af0",
            "placeholder": "​",
            "style": "IPY_MODEL_f83a8123bafb4433a42d0ef98bca5ad3",
            "value": "Loading checkpoint shards: 100%"
          }
        },
        "0e19da014adf4acd8f4c4fb9564dbbe6": {
          "model_module": "@jupyter-widgets/controls",
          "model_name": "FloatProgressModel",
          "model_module_version": "1.5.0",
          "state": {
            "_dom_classes": [],
            "_model_module": "@jupyter-widgets/controls",
            "_model_module_version": "1.5.0",
            "_model_name": "FloatProgressModel",
            "_view_count": null,
            "_view_module": "@jupyter-widgets/controls",
            "_view_module_version": "1.5.0",
            "_view_name": "ProgressView",
            "bar_style": "success",
            "description": "",
            "description_tooltip": null,
            "layout": "IPY_MODEL_0845cdbe29f74c188d3312598e313412",
            "max": 2,
            "min": 0,
            "orientation": "horizontal",
            "style": "IPY_MODEL_092bbff989fb4809ac7816c9a28731e6",
            "value": 2
          }
        },
        "b724da32d12c45c3b97dcf84263ec04b": {
          "model_module": "@jupyter-widgets/controls",
          "model_name": "HTMLModel",
          "model_module_version": "1.5.0",
          "state": {
            "_dom_classes": [],
            "_model_module": "@jupyter-widgets/controls",
            "_model_module_version": "1.5.0",
            "_model_name": "HTMLModel",
            "_view_count": null,
            "_view_module": "@jupyter-widgets/controls",
            "_view_module_version": "1.5.0",
            "_view_name": "HTMLView",
            "description": "",
            "description_tooltip": null,
            "layout": "IPY_MODEL_feffe1d55469427999eb6af006432ae3",
            "placeholder": "​",
            "style": "IPY_MODEL_f0105e324718437094550c8483d9e7bf",
            "value": " 2/2 [00:58&lt;00:00, 27.18s/it]"
          }
        },
        "04f8c1d84c784f7b9ef85e2698db4a5b": {
          "model_module": "@jupyter-widgets/base",
          "model_name": "LayoutModel",
          "model_module_version": "1.2.0",
          "state": {
            "_model_module": "@jupyter-widgets/base",
            "_model_module_version": "1.2.0",
            "_model_name": "LayoutModel",
            "_view_count": null,
            "_view_module": "@jupyter-widgets/base",
            "_view_module_version": "1.2.0",
            "_view_name": "LayoutView",
            "align_content": null,
            "align_items": null,
            "align_self": null,
            "border": null,
            "bottom": null,
            "display": null,
            "flex": null,
            "flex_flow": null,
            "grid_area": null,
            "grid_auto_columns": null,
            "grid_auto_flow": null,
            "grid_auto_rows": null,
            "grid_column": null,
            "grid_gap": null,
            "grid_row": null,
            "grid_template_areas": null,
            "grid_template_columns": null,
            "grid_template_rows": null,
            "height": null,
            "justify_content": null,
            "justify_items": null,
            "left": null,
            "margin": null,
            "max_height": null,
            "max_width": null,
            "min_height": null,
            "min_width": null,
            "object_fit": null,
            "object_position": null,
            "order": null,
            "overflow": null,
            "overflow_x": null,
            "overflow_y": null,
            "padding": null,
            "right": null,
            "top": null,
            "visibility": null,
            "width": null
          }
        },
        "0d1fd8cdafd1474385102b15da742af0": {
          "model_module": "@jupyter-widgets/base",
          "model_name": "LayoutModel",
          "model_module_version": "1.2.0",
          "state": {
            "_model_module": "@jupyter-widgets/base",
            "_model_module_version": "1.2.0",
            "_model_name": "LayoutModel",
            "_view_count": null,
            "_view_module": "@jupyter-widgets/base",
            "_view_module_version": "1.2.0",
            "_view_name": "LayoutView",
            "align_content": null,
            "align_items": null,
            "align_self": null,
            "border": null,
            "bottom": null,
            "display": null,
            "flex": null,
            "flex_flow": null,
            "grid_area": null,
            "grid_auto_columns": null,
            "grid_auto_flow": null,
            "grid_auto_rows": null,
            "grid_column": null,
            "grid_gap": null,
            "grid_row": null,
            "grid_template_areas": null,
            "grid_template_columns": null,
            "grid_template_rows": null,
            "height": null,
            "justify_content": null,
            "justify_items": null,
            "left": null,
            "margin": null,
            "max_height": null,
            "max_width": null,
            "min_height": null,
            "min_width": null,
            "object_fit": null,
            "object_position": null,
            "order": null,
            "overflow": null,
            "overflow_x": null,
            "overflow_y": null,
            "padding": null,
            "right": null,
            "top": null,
            "visibility": null,
            "width": null
          }
        },
        "f83a8123bafb4433a42d0ef98bca5ad3": {
          "model_module": "@jupyter-widgets/controls",
          "model_name": "DescriptionStyleModel",
          "model_module_version": "1.5.0",
          "state": {
            "_model_module": "@jupyter-widgets/controls",
            "_model_module_version": "1.5.0",
            "_model_name": "DescriptionStyleModel",
            "_view_count": null,
            "_view_module": "@jupyter-widgets/base",
            "_view_module_version": "1.2.0",
            "_view_name": "StyleView",
            "description_width": ""
          }
        },
        "0845cdbe29f74c188d3312598e313412": {
          "model_module": "@jupyter-widgets/base",
          "model_name": "LayoutModel",
          "model_module_version": "1.2.0",
          "state": {
            "_model_module": "@jupyter-widgets/base",
            "_model_module_version": "1.2.0",
            "_model_name": "LayoutModel",
            "_view_count": null,
            "_view_module": "@jupyter-widgets/base",
            "_view_module_version": "1.2.0",
            "_view_name": "LayoutView",
            "align_content": null,
            "align_items": null,
            "align_self": null,
            "border": null,
            "bottom": null,
            "display": null,
            "flex": null,
            "flex_flow": null,
            "grid_area": null,
            "grid_auto_columns": null,
            "grid_auto_flow": null,
            "grid_auto_rows": null,
            "grid_column": null,
            "grid_gap": null,
            "grid_row": null,
            "grid_template_areas": null,
            "grid_template_columns": null,
            "grid_template_rows": null,
            "height": null,
            "justify_content": null,
            "justify_items": null,
            "left": null,
            "margin": null,
            "max_height": null,
            "max_width": null,
            "min_height": null,
            "min_width": null,
            "object_fit": null,
            "object_position": null,
            "order": null,
            "overflow": null,
            "overflow_x": null,
            "overflow_y": null,
            "padding": null,
            "right": null,
            "top": null,
            "visibility": null,
            "width": null
          }
        },
        "092bbff989fb4809ac7816c9a28731e6": {
          "model_module": "@jupyter-widgets/controls",
          "model_name": "ProgressStyleModel",
          "model_module_version": "1.5.0",
          "state": {
            "_model_module": "@jupyter-widgets/controls",
            "_model_module_version": "1.5.0",
            "_model_name": "ProgressStyleModel",
            "_view_count": null,
            "_view_module": "@jupyter-widgets/base",
            "_view_module_version": "1.2.0",
            "_view_name": "StyleView",
            "bar_color": null,
            "description_width": ""
          }
        },
        "feffe1d55469427999eb6af006432ae3": {
          "model_module": "@jupyter-widgets/base",
          "model_name": "LayoutModel",
          "model_module_version": "1.2.0",
          "state": {
            "_model_module": "@jupyter-widgets/base",
            "_model_module_version": "1.2.0",
            "_model_name": "LayoutModel",
            "_view_count": null,
            "_view_module": "@jupyter-widgets/base",
            "_view_module_version": "1.2.0",
            "_view_name": "LayoutView",
            "align_content": null,
            "align_items": null,
            "align_self": null,
            "border": null,
            "bottom": null,
            "display": null,
            "flex": null,
            "flex_flow": null,
            "grid_area": null,
            "grid_auto_columns": null,
            "grid_auto_flow": null,
            "grid_auto_rows": null,
            "grid_column": null,
            "grid_gap": null,
            "grid_row": null,
            "grid_template_areas": null,
            "grid_template_columns": null,
            "grid_template_rows": null,
            "height": null,
            "justify_content": null,
            "justify_items": null,
            "left": null,
            "margin": null,
            "max_height": null,
            "max_width": null,
            "min_height": null,
            "min_width": null,
            "object_fit": null,
            "object_position": null,
            "order": null,
            "overflow": null,
            "overflow_x": null,
            "overflow_y": null,
            "padding": null,
            "right": null,
            "top": null,
            "visibility": null,
            "width": null
          }
        },
        "f0105e324718437094550c8483d9e7bf": {
          "model_module": "@jupyter-widgets/controls",
          "model_name": "DescriptionStyleModel",
          "model_module_version": "1.5.0",
          "state": {
            "_model_module": "@jupyter-widgets/controls",
            "_model_module_version": "1.5.0",
            "_model_name": "DescriptionStyleModel",
            "_view_count": null,
            "_view_module": "@jupyter-widgets/base",
            "_view_module_version": "1.2.0",
            "_view_name": "StyleView",
            "description_width": ""
          }
        }
      }
    }
  },
  "cells": [
    {
      "cell_type": "code",
      "source": [
        "!wget https://raw.githubusercontent.com/nicolay-r/nlp-thirdgate/refs/heads/master/llm/transformers_llama.py"
      ],
      "metadata": {
        "id": "gm_eMfzyu-Ei",
        "colab": {
          "base_uri": "https://localhost:8080/"
        },
        "outputId": "05456044-c241-4216-c739-529a5315ea0a"
      },
      "execution_count": 2,
      "outputs": [
        {
          "output_type": "stream",
          "name": "stdout",
          "text": [
            "--2025-02-01 13:17:17--  https://raw.githubusercontent.com/nicolay-r/nlp-thirdgate/refs/heads/master/llm/transformers_llama.py\n",
            "Resolving raw.githubusercontent.com (raw.githubusercontent.com)... 185.199.108.133, 185.199.109.133, 185.199.110.133, ...\n",
            "Connecting to raw.githubusercontent.com (raw.githubusercontent.com)|185.199.108.133|:443... connected.\n",
            "HTTP request sent, awaiting response... 200 OK\n",
            "Length: 964 [text/plain]\n",
            "Saving to: ‘transformers_llama.py.1’\n",
            "\n",
            "\rtransformers_llama.   0%[                    ]       0  --.-KB/s               \rtransformers_llama. 100%[===================>]     964  --.-KB/s    in 0s      \n",
            "\n",
            "2025-02-01 13:17:17 (71.7 MB/s) - ‘transformers_llama.py.1’ saved [964/964]\n",
            "\n"
          ]
        }
      ]
    },
    {
      "cell_type": "code",
      "source": [
        "!pip install bulk-chain"
      ],
      "metadata": {
        "id": "YDgNwyc0vnWl",
        "colab": {
          "base_uri": "https://localhost:8080/"
        },
        "outputId": "d6fd04a6-e65d-4068-9eaa-a61c3e84c531"
      },
      "execution_count": 3,
      "outputs": [
        {
          "output_type": "stream",
          "name": "stdout",
          "text": [
            "Requirement already satisfied: bulk-chain in /usr/local/lib/python3.11/dist-packages (0.25.0)\n"
          ]
        }
      ]
    },
    {
      "cell_type": "code",
      "execution_count": 1,
      "metadata": {
        "colab": {
          "base_uri": "https://localhost:8080/",
          "referenced_widgets": [
            "b735fcd26b62415db965a553750a7385",
            "edbb0af5bfb24d0f8c8deec99f8f47b2",
            "0e19da014adf4acd8f4c4fb9564dbbe6",
            "b724da32d12c45c3b97dcf84263ec04b",
            "04f8c1d84c784f7b9ef85e2698db4a5b",
            "0d1fd8cdafd1474385102b15da742af0",
            "f83a8123bafb4433a42d0ef98bca5ad3",
            "0845cdbe29f74c188d3312598e313412",
            "092bbff989fb4809ac7816c9a28731e6",
            "feffe1d55469427999eb6af006432ae3",
            "f0105e324718437094550c8483d9e7bf"
          ],
          "height": 88
        },
        "id": "qlFfmAHft977",
        "outputId": "c21675aa-9a11-439a-8b49-ca651cb02369"
      },
      "outputs": [
        {
          "output_type": "display_data",
          "data": {
            "text/plain": [
              "Loading checkpoint shards:   0%|          | 0/2 [00:00<?, ?it/s]"
            ],
            "application/vnd.jupyter.widget-view+json": {
              "version_major": 2,
              "version_minor": 0,
              "model_id": "b735fcd26b62415db965a553750a7385"
            }
          },
          "metadata": {}
        },
        {
          "output_type": "stream",
          "name": "stderr",
          "text": [
            "WARNING:accelerate.big_modeling:Some parameters are on the meta device because they were offloaded to the cpu.\n",
            "Device set to use cuda:0\n"
          ]
        }
      ],
      "source": [
        "from bulk_chain.core.utils import dynamic_init\n",
        "\n",
        "llm = dynamic_init(class_dir=\".\",\n",
        "                   class_filepath=\"transformers_llama.py\",\n",
        "                   class_name=\"Llama32\")(model_name=\"deepseek-ai/DeepSeek-R1-Distill-Llama-8B\",\n",
        "                                         api_token=\"<YOUR-HF-API-TOKEN-GOES-HERE>\",\n",
        "                                         use_bf16=False,\n",
        "                                         device=\"gpu\",\n",
        "                                         max_new_tokens=32768,\n",
        "                                         temp=0.6)"
      ]
    },
    {
      "cell_type": "markdown",
      "source": [
        "# Setup Data and Inference Schema"
      ],
      "metadata": {
        "id": "eIYMfqqXhVqh"
      }
    },
    {
      "cell_type": "code",
      "source": [
        "def get_data():\n",
        "    return [\n",
        "        {\"text\": \"What's the color of the sky? Explain why.\"},\n",
        "    ]\n",
        "\n",
        "schema = {\n",
        "  \"schema\": [\n",
        "    {\"prompt\": \"{text}\", \"out\": \"response\"}\n",
        "  ]\n",
        "}"
      ],
      "metadata": {
        "id": "zolu2Cipb9o-"
      },
      "execution_count": 10,
      "outputs": []
    },
    {
      "cell_type": "markdown",
      "source": [
        "# Usage"
      ],
      "metadata": {
        "id": "paIXJh0ThZ1W"
      }
    },
    {
      "cell_type": "code",
      "source": [
        "from bulk_chain.api import iter_content\n",
        "\n",
        "for content in iter_content(get_data(), llm=llm, schema=schema):\n",
        "    print(content)"
      ],
      "metadata": {
        "id": "NaTJr6FOcCG-",
        "colab": {
          "base_uri": "https://localhost:8080/"
        },
        "outputId": "c444d2f3-b64c-4c8f-8cb6-0062f03a2953"
      },
      "execution_count": 11,
      "outputs": [
        {
          "output_type": "stream",
          "name": "stdout",
          "text": [
            "[{'text': \"What's the color of the sky? Explain why\", 'response_prompt': \"What's the color of the sky? Explain why\", 'response': \"<think>\\nOkay, so I'm trying to figure out what color the sky is. I know that when I look up during the day, the sky appears blue, but sometimes it can look green or red, especially during sunrise or sunset. I'm a bit confused about why the sky is blue most of the time. Let me think through this step by step.\\n\\nFirst, I remember that the sky is mostly made up of air, which is a mixture of nitrogen and oxygen. Maybe the colors of these gases have something to do with it. I think when sunlight hits the Earth, it interacts with the atmosphere. I've heard the term Rayleigh scattering before. What does that mean exactly? I think it has to do with how light scatters in the atmosphere.\\n\\nSo, Rayleigh scattering is when light scatters off molecules in the air. Since nitrogen and oxygen are the main gases, maybe they are causing this scattering. But why does this make the sky blue? I think it has to do with the wavelengths of the light. Visible light has different colors based on their wavelengths: red, orange, yellow, green, blue, violet. Blue has a shorter wavelength than red. Maybe blue light scatters more than the other colors?\\n\\nWait, I remember something about the atmosphere being more effective at scattering blue light. So, when sunlight comes in, blue light is scattered in all directions more than the other colors. That's why we see the sky as blue—it's the scattered blue light coming from all over the sky. But then why do we see red during sunrise? If blue is scattered more, shouldn't red come through more? Maybe during sunrise, the path length is longer, so more blue is scattered out, allowing red light to reach the ground.\\n\\nAlso, during sunrise, the sun is lower on the horizon, so the light has to pass through more atmosphere. That makes sense because the longer the path, the more blue light is scattered out, so we see the reds and oranges. At sunset, same thing, but in the opposite direction. So, the sky appears red because blue is scattered away, and the remaining light is red.\\n\\nWait, but why isn't the sky green? I know that during some twilights, especially after sunset, the sky can look green. Maybe it's because at certain times, the light has a different mix of colors scattered. Or perhaps it's due to the way the sun's light interacts with different parts of the atmosphere, like clouds or particles.\\n\\nI'm also thinking about how the Earth's atmosphere absorbs certain wavelengths. For example, ozone layer absorbs UV light, which might affect the colors we see. But I don't think that's the main reason for the sky's color. It's more about the scattering of light.\\n\\nAnother point is that the sky isn't just a flat plane; it's curved. So, when we look up, we're looking through a lot of atmosphere, which again scatters the light. The blue light scatters more, so we see the sky as blue. But when the sun is near the horizon, the path length is longer, so more blue is scattered, and the reds come through.\\n\\nI'm also recalling that during the day, the sky appears blue, but during sunrise and sunset, it's colorful. So, the base color is blue, and the colors during sunrise/sunset are due to the scattering of blue light away, allowing the longer wavelengths (red, orange, yellow) to dominate.\\n\\nSo, putting it all together, the sky is blue because blue light scatters more in the atmosphere, and we see that scattered light as the sky's color. During sunrise and sunset, the longer path length causes more blue to scatter, so the remaining light is red, making the sky appear red or orange.\\n\\nWait, but why is it blue and not green? Maybe because blue is the color that's most scattered, and green is scattered less, but during certain times, maybe the scattering causes green to dominate. Or perhaps it's a combination of factors like the sun's position and the atmosphere's composition.\\n\\nI think I have a basic understanding now. The sky is blue because blue light scatters more in the atmosphere, and we see that scattered light. During sunrise and sunset, the longer path allows red light to dominate as blue is scattered away. So, the color of the sky is blue, and its appearance changes based on the path of light and the scattering properties of the atmosphere.\\n</think>\\n\\nThe sky appears blue during the day because blue light scatters more in the Earth's atmosphere due to Rayleigh scattering. This scattering is more effective for shorter wavelengths, which correspond to blue light. As sunlight travels through the atmosphere, blue light scatters in all directions, creating the blue color we see.\\n\\nDuring sunrise and sunset, the sun is lower on the horizon, causing light to travel through a longer path in the atmosphere. This longer path scatters more blue light away, allowing the longer wavelengths (red, orange, yellow) to reach the ground. This results in the sky appearing red or colorful during these times.\\n\\nThus, the sky's color is primarily blue due to the scattering of blue light, and its appearance changes to red or colorful at sunrise and sunset because blue light is scattered out, letting the longer wavelengths dominate.\"}]\n"
          ]
        }
      ]
    },
    {
      "cell_type": "markdown",
      "source": [
        "# Time Measurement"
      ],
      "metadata": {
        "id": "MwIXMQtkdSI-"
      }
    },
    {
      "cell_type": "code",
      "source": [
        "import time\n",
        "\n",
        "def measure_execution_time(data_it):\n",
        "    start_time = time.perf_counter()\n",
        "\n",
        "    total_len = 0\n",
        "    for data in data_it:\n",
        "        total_len = total_len + len(data)\n",
        "\n",
        "    end_time = time.perf_counter()\n",
        "    total_time = end_time - start_time\n",
        "\n",
        "    return total_time, total_len"
      ],
      "metadata": {
        "id": "JRMaHTKYZnkN"
      },
      "execution_count": 12,
      "outputs": []
    },
    {
      "cell_type": "code",
      "source": [
        "from bulk_chain.api import iter_content\n",
        "\n",
        "def iter_llm_responses():\n",
        "    for content in iter_content(get_data(), llm=llm, schema=schema):\n",
        "        yield content[0][\"response\"]\n",
        "\n",
        "l, t = measure_execution_time(data_it=iter_llm_responses())\n",
        "\n",
        "print(\"Peformance: {}TPS\".format(round(l/t, 2)))"
      ],
      "metadata": {
        "colab": {
          "base_uri": "https://localhost:8080/"
        },
        "id": "e1GHQb4LaCFO",
        "outputId": "76409d34-eabb-43bc-8878-2fc675680901"
      },
      "execution_count": 13,
      "outputs": [
        {
          "output_type": "stream",
          "name": "stdout",
          "text": [
            "Peformance: 0.18TPS\n"
          ]
        }
      ]
    }
  ]
}