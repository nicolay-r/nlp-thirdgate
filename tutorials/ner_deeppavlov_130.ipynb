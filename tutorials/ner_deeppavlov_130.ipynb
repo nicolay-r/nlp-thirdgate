{
  "nbformat": 4,
  "nbformat_minor": 0,
  "metadata": {
    "colab": {
      "provenance": [],
      "gpuType": "T4",
      "authorship_tag": "ABX9TyN3oF740AAyqkVoKcQTyOZx",
      "include_colab_link": true
    },
    "kernelspec": {
      "name": "python3",
      "display_name": "Python 3"
    },
    "language_info": {
      "name": "python"
    },
    "accelerator": "GPU"
  },
  "cells": [
    {
      "cell_type": "markdown",
      "metadata": {
        "id": "view-in-github",
        "colab_type": "text"
      },
      "source": [
        "<a href=\"https://colab.research.google.com/github/nicolay-r/nlp-thirdgate/blob/master/tutorials/ner_deeppavlov_130.ipynb\" target=\"_parent\"><img src=\"https://colab.research.google.com/assets/colab-badge.svg\" alt=\"Open In Colab\"/></a>"
      ]
    },
    {
      "cell_type": "markdown",
      "source": [
        "# bulk-ner (API mode)\n",
        "This notebook represent a tutorial for the project:\n",
        "\n",
        "https://github.com/nicolay-r/bulk-ner"
      ],
      "metadata": {
        "id": "1WwVLEkm3Oqm"
      }
    },
    {
      "cell_type": "code",
      "source": [
        "!pip install bulk-ner"
      ],
      "metadata": {
        "id": "HUi3Nf6y3Ly1"
      },
      "execution_count": null,
      "outputs": []
    },
    {
      "cell_type": "markdown",
      "source": [
        "## Download Provider and Install Dependencies"
      ],
      "metadata": {
        "id": "a2KOeMJQ4VUl"
      }
    },
    {
      "cell_type": "code",
      "source": [
        "!wget -O dp_130.py wget https://raw.githubusercontent.com/nicolay-r/nlp-thirdgate/refs/heads/master/ner/dp_130.py\n",
        "!pip install deeppavlov==1.3.0"
      ],
      "metadata": {
        "id": "3vS4uH5C3fAI"
      },
      "execution_count": null,
      "outputs": []
    },
    {
      "cell_type": "code",
      "source": [
        "from bulk_ner.api import NERAnnotator\n",
        "from bulk_ner.src.service_dynamic import dynamic_init\n",
        "\n",
        "ner_model = dynamic_init(src_dir=\"models\",\n",
        "                         class_filepath=\"dp_130.py\",\n",
        "                         class_name=\"DeepPavlovNER\")(model=\"ner_ontonotes_bert_mult\")\n",
        "\n",
        "annotator = NERAnnotator(ner_model=ner_model,\n",
        "                         entity_func=lambda t: [t.Value, t.Type, t.ID],\n",
        "                         chunk_limit=128)"
      ],
      "metadata": {
        "id": "SgVQhvPm3Ybn"
      },
      "execution_count": null,
      "outputs": []
    },
    {
      "cell_type": "code",
      "source": [
        "texts = [\n",
        "  {\"text\": \"It was in July, 1805, and the speaker was the well-known Anna Pávlovna\"},\n",
        "  # ...\n",
        "]"
      ],
      "metadata": {
        "id": "SkzSHGnN3IYw"
      },
      "execution_count": null,
      "outputs": []
    },
    {
      "cell_type": "code",
      "execution_count": null,
      "metadata": {
        "id": "qjITINp32tId"
      },
      "outputs": [],
      "source": [
        "for data in annotator.iter_annotated_data(data_dict_it=texts, prompt=\"{text}\", batch_size=10):\n",
        "  print(data[\"result\"])"
      ]
    }
  ]
}
