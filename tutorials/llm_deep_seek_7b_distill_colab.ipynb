{
  "nbformat": 4,
  "nbformat_minor": 0,
  "metadata": {
    "colab": {
      "provenance": [],
      "gpuType": "T4",
      "authorship_tag": "ABX9TyO5xPtR1N776xW846gSaVlR",
      "include_colab_link": true
    },
    "kernelspec": {
      "name": "python3",
      "display_name": "Python 3"
    },
    "language_info": {
      "name": "python"
    },
    "accelerator": "GPU",
    "widgets": {
      "application/vnd.jupyter.widget-state+json": {
        "5ecf489ba488416299020f00311a47cd": {
          "model_module": "@jupyter-widgets/controls",
          "model_name": "HBoxModel",
          "model_module_version": "1.5.0",
          "state": {
            "_dom_classes": [],
            "_model_module": "@jupyter-widgets/controls",
            "_model_module_version": "1.5.0",
            "_model_name": "HBoxModel",
            "_view_count": null,
            "_view_module": "@jupyter-widgets/controls",
            "_view_module_version": "1.5.0",
            "_view_name": "HBoxView",
            "box_style": "",
            "children": [
              "IPY_MODEL_559d14294cd74663990f63cc1f1e134a",
              "IPY_MODEL_1630ac4a61fc43918fd42a3ccc7e961f",
              "IPY_MODEL_f50567adebe7409ab006e3c4c17a7b8b"
            ],
            "layout": "IPY_MODEL_a62dede7ad15478cb3b5dd4be0d40cf0"
          }
        },
        "559d14294cd74663990f63cc1f1e134a": {
          "model_module": "@jupyter-widgets/controls",
          "model_name": "HTMLModel",
          "model_module_version": "1.5.0",
          "state": {
            "_dom_classes": [],
            "_model_module": "@jupyter-widgets/controls",
            "_model_module_version": "1.5.0",
            "_model_name": "HTMLModel",
            "_view_count": null,
            "_view_module": "@jupyter-widgets/controls",
            "_view_module_version": "1.5.0",
            "_view_name": "HTMLView",
            "description": "",
            "description_tooltip": null,
            "layout": "IPY_MODEL_8d26763e87d54bd5b46369d02187081f",
            "placeholder": "​",
            "style": "IPY_MODEL_402648593d0e4a22969fe352f88c54d8",
            "value": "Loading checkpoint shards: 100%"
          }
        },
        "1630ac4a61fc43918fd42a3ccc7e961f": {
          "model_module": "@jupyter-widgets/controls",
          "model_name": "FloatProgressModel",
          "model_module_version": "1.5.0",
          "state": {
            "_dom_classes": [],
            "_model_module": "@jupyter-widgets/controls",
            "_model_module_version": "1.5.0",
            "_model_name": "FloatProgressModel",
            "_view_count": null,
            "_view_module": "@jupyter-widgets/controls",
            "_view_module_version": "1.5.0",
            "_view_name": "ProgressView",
            "bar_style": "success",
            "description": "",
            "description_tooltip": null,
            "layout": "IPY_MODEL_81538283cbca409a867c359e8361590e",
            "max": 2,
            "min": 0,
            "orientation": "horizontal",
            "style": "IPY_MODEL_582afd7e41fb4da4b1681e9791e33f8e",
            "value": 2
          }
        },
        "f50567adebe7409ab006e3c4c17a7b8b": {
          "model_module": "@jupyter-widgets/controls",
          "model_name": "HTMLModel",
          "model_module_version": "1.5.0",
          "state": {
            "_dom_classes": [],
            "_model_module": "@jupyter-widgets/controls",
            "_model_module_version": "1.5.0",
            "_model_name": "HTMLModel",
            "_view_count": null,
            "_view_module": "@jupyter-widgets/controls",
            "_view_module_version": "1.5.0",
            "_view_name": "HTMLView",
            "description": "",
            "description_tooltip": null,
            "layout": "IPY_MODEL_c8b93bdd3eac4a61b32d77d941b118a6",
            "placeholder": "​",
            "style": "IPY_MODEL_0674f74274c94b5c93235797b727244d",
            "value": " 2/2 [00:00&lt;00:00,  2.68it/s]"
          }
        },
        "a62dede7ad15478cb3b5dd4be0d40cf0": {
          "model_module": "@jupyter-widgets/base",
          "model_name": "LayoutModel",
          "model_module_version": "1.2.0",
          "state": {
            "_model_module": "@jupyter-widgets/base",
            "_model_module_version": "1.2.0",
            "_model_name": "LayoutModel",
            "_view_count": null,
            "_view_module": "@jupyter-widgets/base",
            "_view_module_version": "1.2.0",
            "_view_name": "LayoutView",
            "align_content": null,
            "align_items": null,
            "align_self": null,
            "border": null,
            "bottom": null,
            "display": null,
            "flex": null,
            "flex_flow": null,
            "grid_area": null,
            "grid_auto_columns": null,
            "grid_auto_flow": null,
            "grid_auto_rows": null,
            "grid_column": null,
            "grid_gap": null,
            "grid_row": null,
            "grid_template_areas": null,
            "grid_template_columns": null,
            "grid_template_rows": null,
            "height": null,
            "justify_content": null,
            "justify_items": null,
            "left": null,
            "margin": null,
            "max_height": null,
            "max_width": null,
            "min_height": null,
            "min_width": null,
            "object_fit": null,
            "object_position": null,
            "order": null,
            "overflow": null,
            "overflow_x": null,
            "overflow_y": null,
            "padding": null,
            "right": null,
            "top": null,
            "visibility": null,
            "width": null
          }
        },
        "8d26763e87d54bd5b46369d02187081f": {
          "model_module": "@jupyter-widgets/base",
          "model_name": "LayoutModel",
          "model_module_version": "1.2.0",
          "state": {
            "_model_module": "@jupyter-widgets/base",
            "_model_module_version": "1.2.0",
            "_model_name": "LayoutModel",
            "_view_count": null,
            "_view_module": "@jupyter-widgets/base",
            "_view_module_version": "1.2.0",
            "_view_name": "LayoutView",
            "align_content": null,
            "align_items": null,
            "align_self": null,
            "border": null,
            "bottom": null,
            "display": null,
            "flex": null,
            "flex_flow": null,
            "grid_area": null,
            "grid_auto_columns": null,
            "grid_auto_flow": null,
            "grid_auto_rows": null,
            "grid_column": null,
            "grid_gap": null,
            "grid_row": null,
            "grid_template_areas": null,
            "grid_template_columns": null,
            "grid_template_rows": null,
            "height": null,
            "justify_content": null,
            "justify_items": null,
            "left": null,
            "margin": null,
            "max_height": null,
            "max_width": null,
            "min_height": null,
            "min_width": null,
            "object_fit": null,
            "object_position": null,
            "order": null,
            "overflow": null,
            "overflow_x": null,
            "overflow_y": null,
            "padding": null,
            "right": null,
            "top": null,
            "visibility": null,
            "width": null
          }
        },
        "402648593d0e4a22969fe352f88c54d8": {
          "model_module": "@jupyter-widgets/controls",
          "model_name": "DescriptionStyleModel",
          "model_module_version": "1.5.0",
          "state": {
            "_model_module": "@jupyter-widgets/controls",
            "_model_module_version": "1.5.0",
            "_model_name": "DescriptionStyleModel",
            "_view_count": null,
            "_view_module": "@jupyter-widgets/base",
            "_view_module_version": "1.2.0",
            "_view_name": "StyleView",
            "description_width": ""
          }
        },
        "81538283cbca409a867c359e8361590e": {
          "model_module": "@jupyter-widgets/base",
          "model_name": "LayoutModel",
          "model_module_version": "1.2.0",
          "state": {
            "_model_module": "@jupyter-widgets/base",
            "_model_module_version": "1.2.0",
            "_model_name": "LayoutModel",
            "_view_count": null,
            "_view_module": "@jupyter-widgets/base",
            "_view_module_version": "1.2.0",
            "_view_name": "LayoutView",
            "align_content": null,
            "align_items": null,
            "align_self": null,
            "border": null,
            "bottom": null,
            "display": null,
            "flex": null,
            "flex_flow": null,
            "grid_area": null,
            "grid_auto_columns": null,
            "grid_auto_flow": null,
            "grid_auto_rows": null,
            "grid_column": null,
            "grid_gap": null,
            "grid_row": null,
            "grid_template_areas": null,
            "grid_template_columns": null,
            "grid_template_rows": null,
            "height": null,
            "justify_content": null,
            "justify_items": null,
            "left": null,
            "margin": null,
            "max_height": null,
            "max_width": null,
            "min_height": null,
            "min_width": null,
            "object_fit": null,
            "object_position": null,
            "order": null,
            "overflow": null,
            "overflow_x": null,
            "overflow_y": null,
            "padding": null,
            "right": null,
            "top": null,
            "visibility": null,
            "width": null
          }
        },
        "582afd7e41fb4da4b1681e9791e33f8e": {
          "model_module": "@jupyter-widgets/controls",
          "model_name": "ProgressStyleModel",
          "model_module_version": "1.5.0",
          "state": {
            "_model_module": "@jupyter-widgets/controls",
            "_model_module_version": "1.5.0",
            "_model_name": "ProgressStyleModel",
            "_view_count": null,
            "_view_module": "@jupyter-widgets/base",
            "_view_module_version": "1.2.0",
            "_view_name": "StyleView",
            "bar_color": null,
            "description_width": ""
          }
        },
        "c8b93bdd3eac4a61b32d77d941b118a6": {
          "model_module": "@jupyter-widgets/base",
          "model_name": "LayoutModel",
          "model_module_version": "1.2.0",
          "state": {
            "_model_module": "@jupyter-widgets/base",
            "_model_module_version": "1.2.0",
            "_model_name": "LayoutModel",
            "_view_count": null,
            "_view_module": "@jupyter-widgets/base",
            "_view_module_version": "1.2.0",
            "_view_name": "LayoutView",
            "align_content": null,
            "align_items": null,
            "align_self": null,
            "border": null,
            "bottom": null,
            "display": null,
            "flex": null,
            "flex_flow": null,
            "grid_area": null,
            "grid_auto_columns": null,
            "grid_auto_flow": null,
            "grid_auto_rows": null,
            "grid_column": null,
            "grid_gap": null,
            "grid_row": null,
            "grid_template_areas": null,
            "grid_template_columns": null,
            "grid_template_rows": null,
            "height": null,
            "justify_content": null,
            "justify_items": null,
            "left": null,
            "margin": null,
            "max_height": null,
            "max_width": null,
            "min_height": null,
            "min_width": null,
            "object_fit": null,
            "object_position": null,
            "order": null,
            "overflow": null,
            "overflow_x": null,
            "overflow_y": null,
            "padding": null,
            "right": null,
            "top": null,
            "visibility": null,
            "width": null
          }
        },
        "0674f74274c94b5c93235797b727244d": {
          "model_module": "@jupyter-widgets/controls",
          "model_name": "DescriptionStyleModel",
          "model_module_version": "1.5.0",
          "state": {
            "_model_module": "@jupyter-widgets/controls",
            "_model_module_version": "1.5.0",
            "_model_name": "DescriptionStyleModel",
            "_view_count": null,
            "_view_module": "@jupyter-widgets/base",
            "_view_module_version": "1.2.0",
            "_view_name": "StyleView",
            "description_width": ""
          }
        }
      }
    }
  },
  "cells": [
    {
      "cell_type": "markdown",
      "metadata": {
        "id": "view-in-github",
        "colab_type": "text"
      },
      "source": [
        "<a href=\"https://colab.research.google.com/github/nicolay-r/nlp-thirdgate/blob/master/deep_seek_7b_distill.ipynb\" target=\"_parent\"><img src=\"https://colab.research.google.com/assets/colab-badge.svg\" alt=\"Open In Colab\"/></a>"
      ]
    },
    {
      "cell_type": "code",
      "source": [
        "!wget https://raw.githubusercontent.com/nicolay-r/nlp-thirdgate/refs/heads/master/llm/transformers_qwen2.py"
      ],
      "metadata": {
        "colab": {
          "base_uri": "https://localhost:8080/"
        },
        "id": "gm_eMfzyu-Ei",
        "outputId": "815e515e-4fd0-44d3-b272-2046f0764562"
      },
      "execution_count": 1,
      "outputs": [
        {
          "output_type": "stream",
          "name": "stdout",
          "text": [
            "--2025-01-27 22:28:42--  https://raw.githubusercontent.com/nicolay-r/nlp-thirdgate/refs/heads/master/llm/transformers_qwen2.py\n",
            "Resolving raw.githubusercontent.com (raw.githubusercontent.com)... 185.199.108.133, 185.199.109.133, 185.199.111.133, ...\n",
            "Connecting to raw.githubusercontent.com (raw.githubusercontent.com)|185.199.108.133|:443... connected.\n",
            "HTTP request sent, awaiting response... 200 OK\n",
            "Length: 1501 (1.5K) [text/plain]\n",
            "Saving to: ‘transformers_qwen2.py.1’\n",
            "\n",
            "transformers_qwen2. 100%[===================>]   1.47K  --.-KB/s    in 0s      \n",
            "\n",
            "2025-01-27 22:28:43 (29.0 MB/s) - ‘transformers_qwen2.py.1’ saved [1501/1501]\n",
            "\n"
          ]
        }
      ]
    },
    {
      "cell_type": "code",
      "source": [
        "!pip install bulk-chain"
      ],
      "metadata": {
        "colab": {
          "base_uri": "https://localhost:8080/"
        },
        "id": "YDgNwyc0vnWl",
        "outputId": "6b4d0385-ef6f-4546-ab79-527bfa490e3a"
      },
      "execution_count": 2,
      "outputs": [
        {
          "output_type": "stream",
          "name": "stdout",
          "text": [
            "Requirement already satisfied: bulk-chain in /usr/local/lib/python3.11/dist-packages (0.25.0)\n"
          ]
        }
      ]
    },
    {
      "cell_type": "code",
      "execution_count": 3,
      "metadata": {
        "colab": {
          "base_uri": "https://localhost:8080/",
          "height": 0,
          "referenced_widgets": [
            "5ecf489ba488416299020f00311a47cd",
            "559d14294cd74663990f63cc1f1e134a",
            "1630ac4a61fc43918fd42a3ccc7e961f",
            "f50567adebe7409ab006e3c4c17a7b8b",
            "a62dede7ad15478cb3b5dd4be0d40cf0",
            "8d26763e87d54bd5b46369d02187081f",
            "402648593d0e4a22969fe352f88c54d8",
            "81538283cbca409a867c359e8361590e",
            "582afd7e41fb4da4b1681e9791e33f8e",
            "c8b93bdd3eac4a61b32d77d941b118a6",
            "0674f74274c94b5c93235797b727244d"
          ]
        },
        "id": "qlFfmAHft977",
        "outputId": "37cdc916-716a-45ac-c9b5-49aae6ac8575"
      },
      "outputs": [
        {
          "output_type": "stream",
          "name": "stderr",
          "text": [
            "/usr/local/lib/python3.11/dist-packages/huggingface_hub/utils/_auth.py:94: UserWarning: \n",
            "The secret `HF_TOKEN` does not exist in your Colab secrets.\n",
            "To authenticate with the Hugging Face Hub, create a token in your settings tab (https://huggingface.co/settings/tokens), set it as secret in your Google Colab and restart your session.\n",
            "You will be able to reuse this secret in all of your notebooks.\n",
            "Please note that authentication is recommended but still optional to access public models or datasets.\n",
            "  warnings.warn(\n"
          ]
        },
        {
          "output_type": "display_data",
          "data": {
            "text/plain": [
              "Loading checkpoint shards:   0%|          | 0/2 [00:00<?, ?it/s]"
            ],
            "application/vnd.jupyter.widget-view+json": {
              "version_major": 2,
              "version_minor": 0,
              "model_id": "5ecf489ba488416299020f00311a47cd"
            }
          },
          "metadata": {}
        }
      ],
      "source": [
        "from bulk_chain.core.utils import dynamic_init\n",
        "from bulk_chain.api import iter_content\n",
        "\n",
        "llm = dynamic_init(class_dir=\".\",\n",
        "                   class_filepath=\"transformers_qwen2.py\",\n",
        "                   class_name=\"Qwen2\")(model_name=\"deepseek-ai/DeepSeek-R1-Distill-Qwen-7B\",\n",
        "                                       api_token=\"<YOUR-HF-API-TOKEN-GOES-THERE>\",\n",
        "                                       use_bf16=False,\n",
        "                                       temp=0.6)\n"
      ]
    },
    {
      "cell_type": "code",
      "source": [
        "data_it = [\n",
        "    {\"text\": \"what's the color of the sky?\"},\n",
        "    {\"text\": \"what's the color of the ground?\"}\n",
        "]\n",
        "\n",
        "schema = {\n",
        "  \"schema\": [\n",
        "    {\"prompt\": \"{text}\", \"out\": \"response\"}\n",
        "  ]\n",
        "}\n",
        "\n",
        "for content in iter_content(data_it, llm=llm, schema=schema):\n",
        "    print(content[0][\"response\"])"
      ],
      "metadata": {
        "colab": {
          "base_uri": "https://localhost:8080/"
        },
        "id": "qvKmwRIf3ZvG",
        "outputId": "b7d9396b-e27d-47c0-e0a6-5ae84fb4804c"
      },
      "execution_count": 4,
      "outputs": [
        {
          "output_type": "stream",
          "name": "stderr",
          "text": [
            "Setting `pad_token_id` to `eos_token_id`:151643 for open-end generation.\n",
            "Setting `pad_token_id` to `eos_token_id`:151643 for open-end generation.\n"
          ]
        },
        {
          "output_type": "stream",
          "name": "stdout",
          "text": [
            "<think>\n",
            "Okay, so I'm trying to figure out what the color of the sky is. I know that when I look up on a clear day, the sky looks blue, but sometimes it's a different color. Hmm, why does the sky appear blue? I remember learning in school that it's something to do with light and the atmosphere. Let me think about how light works.\n",
            "\n",
            "Light from the sun travels through the Earth's atmosphere. When it does, the atmosphere scatters the shorter blue and violet wavelengths more than the longer colors like red and orange. That makes the sky appear blue during the day because those shorter wavelengths are scattered in all directions, and our eyes are more sensitive to blue light. But wait, why isn't the sky violet then? I think maybe the eye's sensitivity isn't as strong to violet as it is to blue, so it appears blue instead.\n",
            "\n",
            "But on some days, especially during sunrise or sunset, the sky turns into different colors like red or orange. That's because the sun is lower on the horizon, and the light has to pass through more of the Earth's atmosphere. The longer red and orange wavelengths aren't scattered as much, so they reach our eyes, making the sky appear those colors. So, the sky's color changes depending on the time of day and the amount of atmosphere the light has to pass through.\n",
            "\n",
            "Wait, but on a clear day without pollution or clouds, the sky is blue. If there are clouds, maybe the color changes? I think sometimes it's gray or even yellow if there are lots of clouds or smog. But in general, without any obstructions, the sky is blue.\n",
            "\n",
            "I also remember something about Rayleigh scattering, which explains why the sky is blue. Rayleigh scattering happens when light interacts with particles much smaller than the wavelength of light. The shorter blue wavelengths get scattered more, making the sky appear blue. But during sunrise or sunset, the sun's light has to pass through more atmosphere, so the shorter wavelengths are scattered away, leaving the longer ones like red and orange.\n",
            "\n",
            "So, putting it all together, the sky is blue on a clear day because of the scattering of light by the atmosphere. During sunrise or sunset, the sky turns red or orange because the longer wavelengths of light aren't scattered as much. Other times of the day, depending on weather conditions, the sky might look different, like gray or yellow, but the primary color due to atmospheric scattering is blue.\n",
            "\n",
            "I should\n",
            "<think>\n",
            "\n",
            "</think>\n",
            "\n",
            "The color of the ground can vary depending on several factors such as:\n",
            "\n",
            "1. **Soil Color**: Different types of soil have different colors. For example, red soil, brown soil, or gray soil.\n",
            "\n",
            "2. **Texture**: The texture of the soil can affect how light reflects off it, influencing its perceived color.\n",
            "\n",
            "3. **Moisture**: The ground's color can change when it is wet or dry. For example, grass appears green when wet and brown when dry.\n",
            "\n",
            "4. **Light Angle**: The angle of the light can also affect how the ground appears. For instance, the ground may appear darker or lighter depending on the light source.\n",
            "\n",
            "5. **Reflection of Objects**: If there are objects on the ground, their colors can also influence the perceived color of the ground.\n",
            "\n",
            "6. **Season**: Seasonal changes can affect the color of the ground. For example, leaves on the ground may change color during autumn.\n",
            "\n",
            "In general, the ground can appear dark (like brown or gray) when dry, and lighter (like green or brown) when wet. However, without specific context, it's difficult to determine the exact color of the ground.\n"
          ]
        }
      ]
    }
  ]
}